{
    "nbformat_minor": 1, 
    "cells": [
        {
            "source": "<h1 align=center>1.\tIntroduction</h1> \n\n<h2>1.1\tBackground</h2> \nGross Domestic Product is considered as the world\u2019s most powerful statistical indicator of national development and progress.  It is the sum of consumption, investments, and government spending and net exports. Since 1944 GDP has been the main tool for measuring a countries economy. Today, the economies of each country in the world is categorised from high income to low income depending on the size of GDP. \nThe amount that each sector contributes to the total GDP is presented as percentage of GDP (% of GDP). Whilst it is important to compare different countries according to the size of their GDP, the results are usually arbitrary and do not inform differences between economies apart from their sizes. There is also less learning points that lower income nations can emulate from the high income. Percentage of GDP should provide more insights that the GDP. \n<h2>1.2\tProblem</h2> \nThis project aims to compare the differences in expenditure on different sectors of the economy between high, middle and low income countries. We will also predict the income group of the countries depending on how much they spend in each sector. \n1.3\tInterest \nThere are many stake holders who will be interested in the results of this project. Firstly the information will be very useful to the institutions and states that work to uplift the millions of people in low income countries through investments. The information is very crucial to the governments in the different countries as it would clearly illustrate the arears that need attention in order to develop their nations. The data is also vital for the different organizations that work in the countries. Most importantly the results are important to the millions and billions of people in the developing countries who can use the insights of the findings to shape their future and demands on their leaders that will lead to \n", 
            "cell_type": "markdown", 
            "metadata": {
                "collapsed": true
            }
        }, 
        {
            "execution_count": null, 
            "cell_type": "code", 
            "metadata": {}, 
            "outputs": [], 
            "source": ""
        }
    ], 
    "metadata": {
        "kernelspec": {
            "display_name": "Python 3.6", 
            "name": "python3", 
            "language": "python"
        }, 
        "language_info": {
            "mimetype": "text/x-python", 
            "nbconvert_exporter": "python", 
            "version": "3.6.8", 
            "name": "python", 
            "file_extension": ".py", 
            "pygments_lexer": "ipython3", 
            "codemirror_mode": {
                "version": 3, 
                "name": "ipython"
            }
        }
    }, 
    "nbformat": 4
}