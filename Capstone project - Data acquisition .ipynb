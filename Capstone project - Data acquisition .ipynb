{
    "nbformat_minor": 1, 
    "cells": [
        {
            "source": "<h1 align=center> 2.\tData acquisition and cleaning</h1>\n<h2> 2.1 Data sources </h2> \nThe project will utilise the World Bank Open Databank to acquire the data necessary for the analysis .All the data is accessible here for referencing. We will also utilise foursquare database to find the coordinates of the countries so that we can segment them according to their income groups.\n", 
            "cell_type": "markdown", 
            "metadata": {
                "collapsed": true
            }
        }, 
        {
            "execution_count": null, 
            "cell_type": "code", 
            "metadata": {}, 
            "outputs": [], 
            "source": ""
        }
    ], 
    "metadata": {
        "kernelspec": {
            "display_name": "Python 3.6", 
            "name": "python3", 
            "language": "python"
        }, 
        "language_info": {
            "mimetype": "text/x-python", 
            "nbconvert_exporter": "python", 
            "version": "3.6.8", 
            "name": "python", 
            "file_extension": ".py", 
            "pygments_lexer": "ipython3", 
            "codemirror_mode": {
                "version": 3, 
                "name": "ipython"
            }
        }
    }, 
    "nbformat": 4
}